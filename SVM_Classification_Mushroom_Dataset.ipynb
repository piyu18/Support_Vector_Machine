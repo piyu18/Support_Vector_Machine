{
  "cells": [
    {
      "cell_type": "markdown",
      "metadata": {
        "id": "0iuvCGYlir9Y"
      },
      "source": [
        "# Categorical Support Vector Classifier"
      ],
      "id": "0iuvCGYlir9Y"
    },
    {
      "cell_type": "code",
      "execution_count": 1,
      "metadata": {
        "id": "IAMwtkTJir9m"
      },
      "outputs": [],
      "source": [
        "# Import libraries\n",
        "import pandas as pd \n",
        "from sklearn.preprocessing import MinMaxScaler \n",
        "from sklearn.model_selection import train_test_split \n",
        "from sklearn.preprocessing import LabelEncoder, OrdinalEncoder \n",
        "from sklearn import svm, datasets\n",
        "import matplotlib.pyplot as plt\n",
        "from sklearn.metrics import confusion_matrix, accuracy_score, precision_score, recall_score, \\\n",
        "f1_score, classification_report,ConfusionMatrixDisplay\n",
        "from sklearn.model_selection import GridSearchCV \n",
        "from sklearn.metrics import classification_report "
      ],
      "id": "IAMwtkTJir9m"
    },
    {
      "cell_type": "markdown",
      "metadata": {
        "id": "1OGqRsb1ir9z"
      },
      "source": [
        "## Loading the database"
      ],
      "id": "1OGqRsb1ir9z"
    },
    {
      "cell_type": "markdown",
      "metadata": {
        "id": "ChdRrUDair91"
      },
      "source": [
        "#### Read the csv file and study the database"
      ],
      "id": "ChdRrUDair91"
    },
    {
      "cell_type": "code",
      "execution_count": 2,
      "metadata": {
        "colab": {
          "base_uri": "https://localhost:8080/",
          "height": 351
        },
        "id": "07erwylQir92",
        "outputId": "ae0cf23f-2abb-4684-91fe-d2ce764660e5"
      },
      "outputs": [
        {
          "output_type": "execute_result",
          "data": {
            "text/plain": [
              "  poisonous cap-shape cap-surface cap-color bruises odor gill-attachment  \\\n",
              "0         p         x           s         n       t    p               f   \n",
              "1         e         x           s         y       t    a               f   \n",
              "2         e         b           s         w       t    l               f   \n",
              "3         p         x           y         w       t    p               f   \n",
              "4         e         x           s         g       f    n               f   \n",
              "\n",
              "  gill-spacing gill-size gill-color  ... stalk-surface-below-ring  \\\n",
              "0            c         n          k  ...                        s   \n",
              "1            c         b          k  ...                        s   \n",
              "2            c         b          n  ...                        s   \n",
              "3            c         n          n  ...                        s   \n",
              "4            w         b          k  ...                        s   \n",
              "\n",
              "  stalk-color-above-ring stalk-color-below-ring veil-type veil-color  \\\n",
              "0                      w                      w         p          w   \n",
              "1                      w                      w         p          w   \n",
              "2                      w                      w         p          w   \n",
              "3                      w                      w         p          w   \n",
              "4                      w                      w         p          w   \n",
              "\n",
              "  ring-number ring-type spore-print-color population habitat  \n",
              "0           o         p                 k          s       u  \n",
              "1           o         p                 n          n       g  \n",
              "2           o         p                 n          n       m  \n",
              "3           o         p                 k          s       u  \n",
              "4           o         e                 n          a       g  \n",
              "\n",
              "[5 rows x 22 columns]"
            ],
            "text/html": [
              "\n",
              "  <div id=\"df-2c77a082-8d02-47dd-8c5d-e5dac553231a\">\n",
              "    <div class=\"colab-df-container\">\n",
              "      <div>\n",
              "<style scoped>\n",
              "    .dataframe tbody tr th:only-of-type {\n",
              "        vertical-align: middle;\n",
              "    }\n",
              "\n",
              "    .dataframe tbody tr th {\n",
              "        vertical-align: top;\n",
              "    }\n",
              "\n",
              "    .dataframe thead th {\n",
              "        text-align: right;\n",
              "    }\n",
              "</style>\n",
              "<table border=\"1\" class=\"dataframe\">\n",
              "  <thead>\n",
              "    <tr style=\"text-align: right;\">\n",
              "      <th></th>\n",
              "      <th>poisonous</th>\n",
              "      <th>cap-shape</th>\n",
              "      <th>cap-surface</th>\n",
              "      <th>cap-color</th>\n",
              "      <th>bruises</th>\n",
              "      <th>odor</th>\n",
              "      <th>gill-attachment</th>\n",
              "      <th>gill-spacing</th>\n",
              "      <th>gill-size</th>\n",
              "      <th>gill-color</th>\n",
              "      <th>...</th>\n",
              "      <th>stalk-surface-below-ring</th>\n",
              "      <th>stalk-color-above-ring</th>\n",
              "      <th>stalk-color-below-ring</th>\n",
              "      <th>veil-type</th>\n",
              "      <th>veil-color</th>\n",
              "      <th>ring-number</th>\n",
              "      <th>ring-type</th>\n",
              "      <th>spore-print-color</th>\n",
              "      <th>population</th>\n",
              "      <th>habitat</th>\n",
              "    </tr>\n",
              "  </thead>\n",
              "  <tbody>\n",
              "    <tr>\n",
              "      <th>0</th>\n",
              "      <td>p</td>\n",
              "      <td>x</td>\n",
              "      <td>s</td>\n",
              "      <td>n</td>\n",
              "      <td>t</td>\n",
              "      <td>p</td>\n",
              "      <td>f</td>\n",
              "      <td>c</td>\n",
              "      <td>n</td>\n",
              "      <td>k</td>\n",
              "      <td>...</td>\n",
              "      <td>s</td>\n",
              "      <td>w</td>\n",
              "      <td>w</td>\n",
              "      <td>p</td>\n",
              "      <td>w</td>\n",
              "      <td>o</td>\n",
              "      <td>p</td>\n",
              "      <td>k</td>\n",
              "      <td>s</td>\n",
              "      <td>u</td>\n",
              "    </tr>\n",
              "    <tr>\n",
              "      <th>1</th>\n",
              "      <td>e</td>\n",
              "      <td>x</td>\n",
              "      <td>s</td>\n",
              "      <td>y</td>\n",
              "      <td>t</td>\n",
              "      <td>a</td>\n",
              "      <td>f</td>\n",
              "      <td>c</td>\n",
              "      <td>b</td>\n",
              "      <td>k</td>\n",
              "      <td>...</td>\n",
              "      <td>s</td>\n",
              "      <td>w</td>\n",
              "      <td>w</td>\n",
              "      <td>p</td>\n",
              "      <td>w</td>\n",
              "      <td>o</td>\n",
              "      <td>p</td>\n",
              "      <td>n</td>\n",
              "      <td>n</td>\n",
              "      <td>g</td>\n",
              "    </tr>\n",
              "    <tr>\n",
              "      <th>2</th>\n",
              "      <td>e</td>\n",
              "      <td>b</td>\n",
              "      <td>s</td>\n",
              "      <td>w</td>\n",
              "      <td>t</td>\n",
              "      <td>l</td>\n",
              "      <td>f</td>\n",
              "      <td>c</td>\n",
              "      <td>b</td>\n",
              "      <td>n</td>\n",
              "      <td>...</td>\n",
              "      <td>s</td>\n",
              "      <td>w</td>\n",
              "      <td>w</td>\n",
              "      <td>p</td>\n",
              "      <td>w</td>\n",
              "      <td>o</td>\n",
              "      <td>p</td>\n",
              "      <td>n</td>\n",
              "      <td>n</td>\n",
              "      <td>m</td>\n",
              "    </tr>\n",
              "    <tr>\n",
              "      <th>3</th>\n",
              "      <td>p</td>\n",
              "      <td>x</td>\n",
              "      <td>y</td>\n",
              "      <td>w</td>\n",
              "      <td>t</td>\n",
              "      <td>p</td>\n",
              "      <td>f</td>\n",
              "      <td>c</td>\n",
              "      <td>n</td>\n",
              "      <td>n</td>\n",
              "      <td>...</td>\n",
              "      <td>s</td>\n",
              "      <td>w</td>\n",
              "      <td>w</td>\n",
              "      <td>p</td>\n",
              "      <td>w</td>\n",
              "      <td>o</td>\n",
              "      <td>p</td>\n",
              "      <td>k</td>\n",
              "      <td>s</td>\n",
              "      <td>u</td>\n",
              "    </tr>\n",
              "    <tr>\n",
              "      <th>4</th>\n",
              "      <td>e</td>\n",
              "      <td>x</td>\n",
              "      <td>s</td>\n",
              "      <td>g</td>\n",
              "      <td>f</td>\n",
              "      <td>n</td>\n",
              "      <td>f</td>\n",
              "      <td>w</td>\n",
              "      <td>b</td>\n",
              "      <td>k</td>\n",
              "      <td>...</td>\n",
              "      <td>s</td>\n",
              "      <td>w</td>\n",
              "      <td>w</td>\n",
              "      <td>p</td>\n",
              "      <td>w</td>\n",
              "      <td>o</td>\n",
              "      <td>e</td>\n",
              "      <td>n</td>\n",
              "      <td>a</td>\n",
              "      <td>g</td>\n",
              "    </tr>\n",
              "  </tbody>\n",
              "</table>\n",
              "<p>5 rows × 22 columns</p>\n",
              "</div>\n",
              "      <button class=\"colab-df-convert\" onclick=\"convertToInteractive('df-2c77a082-8d02-47dd-8c5d-e5dac553231a')\"\n",
              "              title=\"Convert this dataframe to an interactive table.\"\n",
              "              style=\"display:none;\">\n",
              "        \n",
              "  <svg xmlns=\"http://www.w3.org/2000/svg\" height=\"24px\"viewBox=\"0 0 24 24\"\n",
              "       width=\"24px\">\n",
              "    <path d=\"M0 0h24v24H0V0z\" fill=\"none\"/>\n",
              "    <path d=\"M18.56 5.44l.94 2.06.94-2.06 2.06-.94-2.06-.94-.94-2.06-.94 2.06-2.06.94zm-11 1L8.5 8.5l.94-2.06 2.06-.94-2.06-.94L8.5 2.5l-.94 2.06-2.06.94zm10 10l.94 2.06.94-2.06 2.06-.94-2.06-.94-.94-2.06-.94 2.06-2.06.94z\"/><path d=\"M17.41 7.96l-1.37-1.37c-.4-.4-.92-.59-1.43-.59-.52 0-1.04.2-1.43.59L10.3 9.45l-7.72 7.72c-.78.78-.78 2.05 0 2.83L4 21.41c.39.39.9.59 1.41.59.51 0 1.02-.2 1.41-.59l7.78-7.78 2.81-2.81c.8-.78.8-2.07 0-2.86zM5.41 20L4 18.59l7.72-7.72 1.47 1.35L5.41 20z\"/>\n",
              "  </svg>\n",
              "      </button>\n",
              "      \n",
              "  <style>\n",
              "    .colab-df-container {\n",
              "      display:flex;\n",
              "      flex-wrap:wrap;\n",
              "      gap: 12px;\n",
              "    }\n",
              "\n",
              "    .colab-df-convert {\n",
              "      background-color: #E8F0FE;\n",
              "      border: none;\n",
              "      border-radius: 50%;\n",
              "      cursor: pointer;\n",
              "      display: none;\n",
              "      fill: #1967D2;\n",
              "      height: 32px;\n",
              "      padding: 0 0 0 0;\n",
              "      width: 32px;\n",
              "    }\n",
              "\n",
              "    .colab-df-convert:hover {\n",
              "      background-color: #E2EBFA;\n",
              "      box-shadow: 0px 1px 2px rgba(60, 64, 67, 0.3), 0px 1px 3px 1px rgba(60, 64, 67, 0.15);\n",
              "      fill: #174EA6;\n",
              "    }\n",
              "\n",
              "    [theme=dark] .colab-df-convert {\n",
              "      background-color: #3B4455;\n",
              "      fill: #D2E3FC;\n",
              "    }\n",
              "\n",
              "    [theme=dark] .colab-df-convert:hover {\n",
              "      background-color: #434B5C;\n",
              "      box-shadow: 0px 1px 3px 1px rgba(0, 0, 0, 0.15);\n",
              "      filter: drop-shadow(0px 1px 2px rgba(0, 0, 0, 0.3));\n",
              "      fill: #FFFFFF;\n",
              "    }\n",
              "  </style>\n",
              "\n",
              "      <script>\n",
              "        const buttonEl =\n",
              "          document.querySelector('#df-2c77a082-8d02-47dd-8c5d-e5dac553231a button.colab-df-convert');\n",
              "        buttonEl.style.display =\n",
              "          google.colab.kernel.accessAllowed ? 'block' : 'none';\n",
              "\n",
              "        async function convertToInteractive(key) {\n",
              "          const element = document.querySelector('#df-2c77a082-8d02-47dd-8c5d-e5dac553231a');\n",
              "          const dataTable =\n",
              "            await google.colab.kernel.invokeFunction('convertToInteractive',\n",
              "                                                     [key], {});\n",
              "          if (!dataTable) return;\n",
              "\n",
              "          const docLinkHtml = 'Like what you see? Visit the ' +\n",
              "            '<a target=\"_blank\" href=https://colab.research.google.com/notebooks/data_table.ipynb>data table notebook</a>'\n",
              "            + ' to learn more about interactive tables.';\n",
              "          element.innerHTML = '';\n",
              "          dataTable['output_type'] = 'display_data';\n",
              "          await google.colab.output.renderOutput(dataTable, element);\n",
              "          const docLink = document.createElement('div');\n",
              "          docLink.innerHTML = docLinkHtml;\n",
              "          element.appendChild(docLink);\n",
              "        }\n",
              "      </script>\n",
              "    </div>\n",
              "  </div>\n",
              "  "
            ]
          },
          "metadata": {},
          "execution_count": 2
        }
      ],
      "source": [
        "mushroom_data = pd.read_csv(\"mushrooms-full-dataset.csv\", dtype = str)\n",
        "mushroom_data.head()"
      ],
      "id": "07erwylQir92"
    },
    {
      "cell_type": "markdown",
      "source": [
        "Since SVM doesn't work well if data is imbalanced, so we have to make sure that our data is balanced"
      ],
      "metadata": {
        "id": "xjvYluNmkFfn"
      },
      "id": "xjvYluNmkFfn"
    },
    {
      "cell_type": "code",
      "execution_count": 3,
      "metadata": {
        "colab": {
          "base_uri": "https://localhost:8080/"
        },
        "id": "vHebkDphir96",
        "outputId": "a93584df-f310-455f-d72e-afc1be887607"
      },
      "outputs": [
        {
          "output_type": "execute_result",
          "data": {
            "text/plain": [
              "e    4208\n",
              "p    3916\n",
              "Name: poisonous, dtype: int64"
            ]
          },
          "metadata": {},
          "execution_count": 3
        }
      ],
      "source": [
        "mushroom_data['poisonous'].value_counts()"
      ],
      "id": "vHebkDphir96"
    },
    {
      "cell_type": "code",
      "execution_count": 5,
      "metadata": {
        "colab": {
          "base_uri": "https://localhost:8080/"
        },
        "id": "rekPf86eir98",
        "outputId": "b609c2b9-0c84-4214-ab9b-95383d5b2575"
      },
      "outputs": [
        {
          "output_type": "execute_result",
          "data": {
            "text/plain": [
              "poisonous                   0\n",
              "cap-shape                   0\n",
              "cap-surface                 0\n",
              "cap-color                   0\n",
              "bruises                     0\n",
              "odor                        0\n",
              "gill-attachment             0\n",
              "gill-spacing                0\n",
              "gill-size                   0\n",
              "gill-color                  0\n",
              "stalk-shape                 0\n",
              "stalk-surface-above-ring    0\n",
              "stalk-surface-below-ring    0\n",
              "stalk-color-above-ring      0\n",
              "stalk-color-below-ring      0\n",
              "veil-type                   0\n",
              "veil-color                  0\n",
              "ring-number                 0\n",
              "ring-type                   0\n",
              "spore-print-color           0\n",
              "population                  0\n",
              "habitat                     0\n",
              "dtype: int64"
            ]
          },
          "metadata": {},
          "execution_count": 5
        }
      ],
      "source": [
        "# Check for Null Values\n",
        "mushroom_data.isnull().sum()"
      ],
      "id": "rekPf86eir98"
    },
    {
      "cell_type": "markdown",
      "metadata": {
        "id": "NvbXf7Onir9_"
      },
      "source": [
        "## Preprocessing"
      ],
      "id": "NvbXf7Onir9_"
    },
    {
      "cell_type": "markdown",
      "metadata": {
        "id": "nMzVnnhXir-B"
      },
      "source": [
        "#### Define the target and the inputs"
      ],
      "id": "nMzVnnhXir-B"
    },
    {
      "cell_type": "code",
      "execution_count": 6,
      "metadata": {
        "id": "iTjj5hDZir-D"
      },
      "outputs": [],
      "source": [
        "y = mushroom_data['poisonous']\n",
        "X = mushroom_data.drop(['poisonous'],axis=1)"
      ],
      "id": "iTjj5hDZir-D"
    },
    {
      "cell_type": "markdown",
      "metadata": {
        "id": "D9zeCnG8ir-E"
      },
      "source": [
        "#### Create a training and a testing dataset"
      ],
      "id": "D9zeCnG8ir-E"
    },
    {
      "cell_type": "code",
      "execution_count": 7,
      "metadata": {
        "id": "QQSzmMvhir-F"
      },
      "outputs": [],
      "source": [
        "x_train, x_test, y_train, y_test = train_test_split(X, y, test_size=0.2, random_state=365, stratify = y) # We are passing startify as target column so that we get almost same proportion of class labels"
      ],
      "id": "QQSzmMvhir-F"
    },
    {
      "cell_type": "markdown",
      "metadata": {
        "id": "GB0-GxSMir-H"
      },
      "source": [
        "#### Check the result from the stratification"
      ],
      "id": "GB0-GxSMir-H"
    },
    {
      "cell_type": "code",
      "execution_count": 8,
      "metadata": {
        "colab": {
          "base_uri": "https://localhost:8080/"
        },
        "id": "tzf77dSfir-I",
        "outputId": "ae9fcbe3-bbba-48c2-d6fc-8c2920eda66f"
      },
      "outputs": [
        {
          "output_type": "execute_result",
          "data": {
            "text/plain": [
              "e    0.517926\n",
              "p    0.482074\n",
              "Name: poisonous, dtype: float64"
            ]
          },
          "metadata": {},
          "execution_count": 8
        }
      ],
      "source": [
        "y_train.value_counts(normalize = True)"
      ],
      "id": "tzf77dSfir-I"
    },
    {
      "cell_type": "code",
      "execution_count": 9,
      "metadata": {
        "scrolled": true,
        "colab": {
          "base_uri": "https://localhost:8080/"
        },
        "id": "s9Gbg0uiir-J",
        "outputId": "668e3b53-ba82-484e-930d-94281a33fab4"
      },
      "outputs": [
        {
          "output_type": "execute_result",
          "data": {
            "text/plain": [
              "e    0.518154\n",
              "p    0.481846\n",
              "Name: poisonous, dtype: float64"
            ]
          },
          "metadata": {},
          "execution_count": 9
        }
      ],
      "source": [
        "pd.Series(y_test).value_counts(normalize = True)"
      ],
      "id": "s9Gbg0uiir-J"
    },
    {
      "cell_type": "markdown",
      "metadata": {
        "id": "sIkvEgVnir-K"
      },
      "source": [
        "#### Define a separate encoder for the target and the inputs "
      ],
      "id": "sIkvEgVnir-K"
    },
    {
      "cell_type": "code",
      "execution_count": 10,
      "metadata": {
        "id": "z1X0O0Oair-L"
      },
      "outputs": [],
      "source": [
        "enc_input = OrdinalEncoder()\n",
        "enc_target = LabelEncoder()"
      ],
      "id": "z1X0O0Oair-L"
    },
    {
      "cell_type": "markdown",
      "metadata": {
        "id": "byvykj1cir-M"
      },
      "source": [
        "#### Apply the fit_transform() method on the training data and the transform() method on the test data."
      ],
      "id": "byvykj1cir-M"
    },
    {
      "cell_type": "code",
      "execution_count": 11,
      "metadata": {
        "id": "Zo5lPWnAir-N"
      },
      "outputs": [],
      "source": [
        "x_train_transf = enc_input.fit_transform(x_train)\n",
        "x_test_transf = enc_input.transform(x_test)\n",
        "\n",
        "y_train_transf = enc_target.fit_transform(y_train)\n",
        "y_test_transf = enc_target.transform(y_test)"
      ],
      "id": "Zo5lPWnAir-N"
    },
    {
      "cell_type": "code",
      "execution_count": 12,
      "metadata": {
        "colab": {
          "base_uri": "https://localhost:8080/"
        },
        "id": "PfUPwEDAir-O",
        "outputId": "77bbb238-325f-44fb-f34d-dc1187543ddf"
      },
      "outputs": [
        {
          "output_type": "execute_result",
          "data": {
            "text/plain": [
              "array([0, 0, 0, ..., 1, 0, 0])"
            ]
          },
          "metadata": {},
          "execution_count": 12
        }
      ],
      "source": [
        "y_train_transf"
      ],
      "id": "PfUPwEDAir-O"
    },
    {
      "cell_type": "code",
      "execution_count": 13,
      "metadata": {
        "colab": {
          "base_uri": "https://localhost:8080/"
        },
        "id": "9Va_WpnYir-Q",
        "outputId": "b1695885-6ed7-455c-e062-5466d7e3e20d"
      },
      "outputs": [
        {
          "output_type": "execute_result",
          "data": {
            "text/plain": [
              "array([[3., 3., 2., ..., 7., 1., 6.],\n",
              "       [5., 3., 4., ..., 2., 5., 4.],\n",
              "       [2., 0., 4., ..., 2., 4., 0.],\n",
              "       ...,\n",
              "       [2., 3., 2., ..., 7., 4., 0.],\n",
              "       [3., 0., 8., ..., 7., 3., 1.],\n",
              "       [5., 0., 3., ..., 3., 4., 0.]])"
            ]
          },
          "metadata": {},
          "execution_count": 13
        }
      ],
      "source": [
        "x_train_transf"
      ],
      "id": "9Va_WpnYir-Q"
    },
    {
      "cell_type": "markdown",
      "metadata": {
        "id": "INUb0WJ9ir-R"
      },
      "source": [
        "## Rescaling"
      ],
      "id": "INUb0WJ9ir-R"
    },
    {
      "cell_type": "markdown",
      "metadata": {
        "id": "z_95-hrVir-S"
      },
      "source": [
        "### In order for the SVC to work correctly the inputs need to be rescaled to the range (-1, 1)"
      ],
      "id": "z_95-hrVir-S"
    },
    {
      "cell_type": "code",
      "execution_count": 14,
      "metadata": {
        "id": "xhHz98RGir-T"
      },
      "outputs": [],
      "source": [
        "scaling = MinMaxScaler(feature_range=(-1,1)).fit(x_train_transf)\n",
        "x_train_rescaled = scaling.transform(x_train_transf)"
      ],
      "id": "xhHz98RGir-T"
    },
    {
      "cell_type": "markdown",
      "metadata": {
        "id": "6XupFO91ir-U"
      },
      "source": [
        "## Classification"
      ],
      "id": "6XupFO91ir-U"
    },
    {
      "cell_type": "code",
      "execution_count": 15,
      "metadata": {
        "id": "5tFZnvAxir-U"
      },
      "outputs": [],
      "source": [
        "C = 1.0\n",
        "svc = svm.SVC(kernel='linear', C=C).fit(x_train_rescaled, y_train_transf)"
      ],
      "id": "5tFZnvAxir-U"
    },
    {
      "cell_type": "code",
      "execution_count": 16,
      "metadata": {
        "colab": {
          "base_uri": "https://localhost:8080/"
        },
        "id": "EVeQzhvxir-V",
        "outputId": "62d1ee55-3a4d-46b3-b7d5-c33ea2434cd5"
      },
      "outputs": [
        {
          "output_type": "execute_result",
          "data": {
            "text/plain": [
              "array(['e', 'p'], dtype=object)"
            ]
          },
          "metadata": {},
          "execution_count": 16
        }
      ],
      "source": [
        "enc_target.classes_"
      ],
      "id": "EVeQzhvxir-V"
    },
    {
      "cell_type": "markdown",
      "metadata": {
        "id": "pjgteCAXir-Y"
      },
      "source": [
        "## Evaluation"
      ],
      "id": "pjgteCAXir-Y"
    },
    {
      "cell_type": "markdown",
      "metadata": {
        "id": "y-Ov0w17ir-Y"
      },
      "source": [
        "#### Evaluate the model on the test data"
      ],
      "id": "y-Ov0w17ir-Y"
    },
    {
      "cell_type": "code",
      "execution_count": 17,
      "metadata": {
        "id": "unCLe3piir-Z"
      },
      "outputs": [],
      "source": [
        "y_pred_test = svc.predict(scaling.transform(x_test_transf))"
      ],
      "id": "unCLe3piir-Z"
    },
    {
      "cell_type": "code",
      "source": [
        "y_pred_test"
      ],
      "metadata": {
        "colab": {
          "base_uri": "https://localhost:8080/"
        },
        "id": "utW-2sm1qKkk",
        "outputId": "8f3717b5-6e56-4735-9a76-3e1139533e2f"
      },
      "id": "utW-2sm1qKkk",
      "execution_count": 23,
      "outputs": [
        {
          "output_type": "execute_result",
          "data": {
            "text/plain": [
              "array([1, 1, 1, ..., 1, 1, 0])"
            ]
          },
          "metadata": {},
          "execution_count": 23
        }
      ]
    },
    {
      "cell_type": "code",
      "execution_count": 18,
      "metadata": {
        "colab": {
          "base_uri": "https://localhost:8080/",
          "height": 334
        },
        "id": "kLTFnBrbir-Z",
        "outputId": "d80b5bc8-7f27-4631-c875-729e34063759"
      },
      "outputs": [
        {
          "output_type": "display_data",
          "data": {
            "text/plain": [
              "<Figure size 576x360 with 2 Axes>"
            ],
            "image/png": "[encoded data removed]"
          },
          "metadata": {
            "needs_background": "light"
          }
        }
      ],
      "source": [
        "fig, ax = plt.subplots(figsize=(8, 5))\n",
        "\n",
        "cmp = ConfusionMatrixDisplay(\n",
        "    confusion_matrix(y_test_transf, y_pred_test),\n",
        "    display_labels=[\"Edible\", \"Poisonous\"],\n",
        ")\n",
        "\n",
        "cmp.plot(ax=ax);"
      ],
      "id": "kLTFnBrbir-Z"
    },
    {
      "cell_type": "markdown",
      "source": [
        "As we can see that our model is giving more FP in comparison to FN, it means its classifying Poisonous Mushrooms as Edible which is more dangerous. So we have to reduce this number"
      ],
      "metadata": {
        "id": "JaoBLu9boP1S"
      },
      "id": "JaoBLu9boP1S"
    },
    {
      "cell_type": "code",
      "execution_count": 19,
      "metadata": {
        "colab": {
          "base_uri": "https://localhost:8080/"
        },
        "id": "araiZKBdir-a",
        "outputId": "0b2e6d30-c363-4897-b42c-c1b19ad5806b"
      },
      "outputs": [
        {
          "output_type": "stream",
          "name": "stdout",
          "text": [
            "              precision    recall  f1-score   support\n",
            "\n",
            "      Edible       0.94      0.97      0.96       842\n",
            "   Poisonous       0.97      0.93      0.95       783\n",
            "\n",
            "    accuracy                           0.95      1625\n",
            "   macro avg       0.95      0.95      0.95      1625\n",
            "weighted avg       0.95      0.95      0.95      1625\n",
            "\n"
          ]
        }
      ],
      "source": [
        "print(classification_report(y_test_transf, y_pred_test, target_names = [\"Edible\", \"Poisonous\"]))"
      ],
      "id": "araiZKBdir-a"
    },
    {
      "cell_type": "markdown",
      "metadata": {
        "id": "Hh5K1MHLir-c"
      },
      "source": [
        "## Hyperparameter Tuning with GridSearchCV"
      ],
      "id": "Hh5K1MHLir-c"
    },
    {
      "cell_type": "markdown",
      "metadata": {
        "id": "qsB6YKlAir-c"
      },
      "source": [
        "### Choose the best kernel and optimal C parameter based on Cross Validation of the training data"
      ],
      "id": "qsB6YKlAir-c"
    },
    {
      "cell_type": "code",
      "execution_count": 20,
      "metadata": {
        "id": "BEkWm2apir-d"
      },
      "outputs": [],
      "source": [
        "tuned_parameters = [\n",
        "    {\"kernel\": [\"linear\"], \"C\": [1, 10]},\n",
        "    {\"kernel\": [\"poly\"], \"C\":[1, 10]},\n",
        "    {\"kernel\": [\"rbf\"], \"gamma\": [1e-3, 1e-4], \"C\": [1, 10]}\n",
        "]"
      ],
      "id": "BEkWm2apir-d"
    },
    {
      "cell_type": "code",
      "execution_count": 21,
      "metadata": {
        "id": "f36JprKnir-e"
      },
      "outputs": [],
      "source": [
        "scores = [\"precision\", \"recall\"]"
      ],
      "id": "f36JprKnir-e"
    },
    {
      "cell_type": "code",
      "execution_count": 22,
      "metadata": {
        "colab": {
          "base_uri": "https://localhost:8080/"
        },
        "id": "pGDiOlPKir-e",
        "outputId": "a7130141-3c32-41c7-fa66-7bffab9278f4"
      },
      "outputs": [
        {
          "output_type": "stream",
          "name": "stdout",
          "text": [
            "# Tuning hyper-parameters for precision\n",
            "\n",
            "Best parameters set found on development set:\n",
            "\n",
            "{'C': 1, 'kernel': 'poly'}\n",
            "\n",
            "Grid scores on development set:\n",
            "\n",
            "0.952 (+/-0.013) for {'C': 1, 'kernel': 'linear'}\n",
            "0.954 (+/-0.009) for {'C': 10, 'kernel': 'linear'}\n",
            "1.000 (+/-0.000) for {'C': 1, 'kernel': 'poly'}\n",
            "1.000 (+/-0.000) for {'C': 10, 'kernel': 'poly'}\n",
            "0.927 (+/-0.004) for {'C': 1, 'gamma': 0.001, 'kernel': 'rbf'}\n",
            "0.894 (+/-0.014) for {'C': 1, 'gamma': 0.0001, 'kernel': 'rbf'}\n",
            "0.948 (+/-0.008) for {'C': 10, 'gamma': 0.001, 'kernel': 'rbf'}\n",
            "0.927 (+/-0.004) for {'C': 10, 'gamma': 0.0001, 'kernel': 'rbf'}\n",
            "\n",
            "Detailed classification report:\n",
            "\n",
            "The model is trained on the full development set.\n",
            "The scores are computed on the full evaluation set.\n",
            "\n",
            "              precision    recall  f1-score   support\n",
            "\n",
            "           0       1.00      1.00      1.00       842\n",
            "           1       1.00      1.00      1.00       783\n",
            "\n",
            "    accuracy                           1.00      1625\n",
            "   macro avg       1.00      1.00      1.00      1625\n",
            "weighted avg       1.00      1.00      1.00      1625\n",
            "\n",
            "\n",
            "# Tuning hyper-parameters for recall\n",
            "\n",
            "Best parameters set found on development set:\n",
            "\n",
            "{'C': 1, 'kernel': 'poly'}\n",
            "\n",
            "Grid scores on development set:\n",
            "\n",
            "0.952 (+/-0.014) for {'C': 1, 'kernel': 'linear'}\n",
            "0.953 (+/-0.009) for {'C': 10, 'kernel': 'linear'}\n",
            "1.000 (+/-0.000) for {'C': 1, 'kernel': 'poly'}\n",
            "1.000 (+/-0.000) for {'C': 10, 'kernel': 'poly'}\n",
            "0.924 (+/-0.004) for {'C': 1, 'gamma': 0.001, 'kernel': 'rbf'}\n",
            "0.884 (+/-0.016) for {'C': 1, 'gamma': 0.0001, 'kernel': 'rbf'}\n",
            "0.947 (+/-0.008) for {'C': 10, 'gamma': 0.001, 'kernel': 'rbf'}\n",
            "0.924 (+/-0.004) for {'C': 10, 'gamma': 0.0001, 'kernel': 'rbf'}\n",
            "\n",
            "Detailed classification report:\n",
            "\n",
            "The model is trained on the full development set.\n",
            "The scores are computed on the full evaluation set.\n",
            "\n",
            "              precision    recall  f1-score   support\n",
            "\n",
            "           0       1.00      1.00      1.00       842\n",
            "           1       1.00      1.00      1.00       783\n",
            "\n",
            "    accuracy                           1.00      1625\n",
            "   macro avg       1.00      1.00      1.00      1625\n",
            "weighted avg       1.00      1.00      1.00      1625\n",
            "\n",
            "\n"
          ]
        }
      ],
      "source": [
        "for score in scores:\n",
        "    print(\"# Tuning hyper-parameters for %s\" % score)\n",
        "    print()\n",
        "\n",
        "    clf = GridSearchCV(svm.SVC(), tuned_parameters, scoring=\"%s_macro\" % score)\n",
        "    clf.fit(x_train_rescaled, y_train_transf)\n",
        "\n",
        "    print(\"Best parameters set found on development set:\")\n",
        "    print()\n",
        "    print(clf.best_params_)\n",
        "    print()\n",
        "    print(\"Grid scores on development set:\")\n",
        "    print()\n",
        "    means = clf.cv_results_[\"mean_test_score\"]\n",
        "    stds = clf.cv_results_[\"std_test_score\"]\n",
        "    for mean, std, params in zip(means, stds, clf.cv_results_[\"params\"]):\n",
        "        print(\"%0.3f (+/-%0.03f) for %r\" % (mean, std * 2, params))\n",
        "    print()\n",
        "\n",
        "    print(\"Detailed classification report:\")\n",
        "    print()\n",
        "    print(\"The model is trained on the full development set.\")\n",
        "    print(\"The scores are computed on the full evaluation set.\")\n",
        "    print()\n",
        "    y_true, y_pred = y_test_transf, clf.predict(scaling.transform(x_test_transf))\n",
        "    print(classification_report(y_true, y_pred))\n",
        "    print()\n"
      ],
      "id": "pGDiOlPKir-e"
    },
    {
      "cell_type": "code",
      "execution_count": null,
      "metadata": {
        "id": "GO-IL-Otir-f"
      },
      "outputs": [],
      "source": [],
      "id": "GO-IL-Otir-f"
    },
    {
      "cell_type": "code",
      "execution_count": null,
      "metadata": {
        "id": "wyir3rc9ir-f"
      },
      "outputs": [],
      "source": [],
      "id": "wyir3rc9ir-f"
    },
    {
      "cell_type": "code",
      "execution_count": null,
      "metadata": {
        "id": "DXYpp352ir-g"
      },
      "outputs": [],
      "source": [],
      "id": "DXYpp352ir-g"
    }
  ],
  "metadata": {
    "kernelspec": {
      "display_name": "Python 3",
      "language": "python",
      "name": "python3"
    },
    "language_info": {
      "codemirror_mode": {
        "name": "ipython",
        "version": 3
      },
      "file_extension": ".py",
      "mimetype": "text/x-python",
      "name": "python",
      "nbconvert_exporter": "python",
      "pygments_lexer": "ipython3",
      "version": "3.7.6"
    },
    "colab": {
      "provenance": [],
      "collapsed_sections": []
    }
  },
  "nbformat": 4,
  "nbformat_minor": 5
}